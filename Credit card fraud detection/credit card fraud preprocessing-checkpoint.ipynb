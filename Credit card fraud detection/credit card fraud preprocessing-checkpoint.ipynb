{
 "cells": [
  {
   "cell_type": "code",
   "execution_count": 1,
   "id": "209914bd-3f54-4cc7-ab00-df9dd010507b",
   "metadata": {},
   "outputs": [
    {
     "ename": "SyntaxError",
     "evalue": "(unicode error) 'unicodeescape' codec can't decode bytes in position 2-3: truncated \\UXXXXXXXX escape (2799210937.py, line 6)",
     "output_type": "error",
     "traceback": [
      "\u001b[1;36m  Cell \u001b[1;32mIn[1], line 6\u001b[1;36m\u001b[0m\n\u001b[1;33m    for dirname, _, filenames in os.walk('C:\\Users\\samsh\\Downloads\\fraudTest.csv'):\u001b[0m\n\u001b[1;37m                                         ^\u001b[0m\n\u001b[1;31mSyntaxError\u001b[0m\u001b[1;31m:\u001b[0m (unicode error) 'unicodeescape' codec can't decode bytes in position 2-3: truncated \\UXXXXXXXX escape\n"
     ]
    }
   ],
   "source": [
    "import numpy as np  # Linear algebra\n",
    "import pandas as pd  # Data processing, CSV file I/O (e.g. pd.read_csv)\n",
    "import os\n",
    "\n",
    "# List all files in the Kaggle input directory\n",
    "for dirname, _, filenames in os.walk('C:\\\\Users\\\\samsh\\\\Downloads\\\\fraudTest.csv'):\n",
    "    for filename in filenames:\n",
    "        print(os.path.join(dirname, filename))\n",
    "\n",
    "# Load fraud detection datasets\n",
    "df_fraudTest = pd.read_csv(\"C:\\\\Users\\\\samsh\\\\Downloads\\\\fraudTest.csv\")\n",
    "df_fraudTrain = pd.read_csv(\"C:\\\\Users\\\\samsh\\\\Downloads\\\\fraudTest.csvv\")\n",
    "\n",
    "# Display dataset shapes and first few rows\n",
    "print(df_fraudTest.shape)\n",
    "print(df_fraudTrain.shape)\n",
    "print(df_fraudTrain.head())\n",
    "print(df_fraudTest.head())\n",
    "\n",
    "# Drop unnecessary column \"Unnamed: 0\"\n",
    "df_fraudTrain.drop(\"Unnamed: 0\", axis=1, inplace=True)\n",
    "df_fraudTest.drop(\"Unnamed: 0\", axis=1, inplace=True)\n",
    "\n",
    "# Display column names and dataset information\n",
    "print(df_fraudTest.columns)\n",
    "df_fraudTest.info()\n",
    "df_fraudTrain.info()\n",
    "\n",
    "# Drop non-essential columns\n",
    "cols_to_drop = [\"first\", \"last\", \"street\", \"cc_num\", \"trans_num\"]\n",
    "df_fraudTest.drop(cols_to_drop, axis=1, inplace=True)\n",
    "df_fraudTrain.drop(cols_to_drop, axis=1, inplace=True)\n",
    "\n",
    "# Convert datetime columns\n",
    "df_fraudTrain[\"trans_date_trans_time\"] = pd.to_datetime(df_fraudTrain[\"trans_date_trans_time\"])\n",
    "df_fraudTest[\"trans_date_trans_time\"] = pd.to_datetime(df_fraudTest[\"trans_date_trans_time\"])\n",
    "df_fraudTrain[\"dob\"] = pd.to_datetime(df_fraudTrain[\"dob\"])\n",
    "df_fraudTest[\"dob\"] = pd.to_datetime(df_fraudTest[\"dob\"])\n",
    "\n",
    "# Calculate age\n",
    "df_fraudTrain[\"age\"] = (df_fraudTrain[\"trans_date_trans_time\"] - df_fraudTrain[\"dob\"]).dt.days // 365\n",
    "df_fraudTest[\"age\"] = (df_fraudTest[\"trans_date_trans_time\"] - df_fraudTest[\"dob\"]).dt.days // 365\n",
    "\n",
    "# Extract time features\n",
    "time_features = [\"hour\", \"day_of_week\", \"day\", \"month\"]\n",
    "df_fraudTrain[\"hour\"] = df_fraudTrain[\"trans_date_trans_time\"].dt.hour\n",
    "df_fraudTrain[\"day_of_week\"] = df_fraudTrain[\"trans_date_trans_time\"].dt.dayofweek\n",
    "df_fraudTrain[\"day\"] = df_fraudTrain[\"trans_date_trans_time\"].dt.day\n",
    "df_fraudTrain[\"month\"] = df_fraudTrain[\"trans_date_trans_time\"].dt.month\n",
    "\n",
    "df_fraudTest[\"hour\"] = df_fraudTest[\"trans_date_trans_time\"].dt.hour\n",
    "df_fraudTest[\"day_of_week\"] = df_fraudTest[\"trans_date_trans_time\"].dt.dayofweek\n",
    "df_fraudTest[\"day\"] = df_fraudTest[\"trans_date_trans_time\"].dt.day\n",
    "df_fraudTest[\"month\"] = df_fraudTest[\"trans_date_trans_time\"].dt.month\n",
    "\n",
    "# Drop original datetime columns\n",
    "df_fraudTest.drop([\"dob\", \"trans_date_trans_time\"], axis=1, inplace=True)\n",
    "df_fraudTrain.drop([\"dob\", \"trans_date_trans_time\"], axis=1, inplace=True)\n",
    "\n",
    "# Encode gender column\n",
    "print(df_fraudTest[\"gender\"].value_counts())\n",
    "df_fraudTest[\"gender\"] = df_fraudTest[\"gender\"].map({\"F\": 0, \"M\": 1})\n",
    "df_fraudTrain[\"gender\"] = df_fraudTrain[\"gender\"].map({\"F\": 0, \"M\": 1})\n",
    "print(df_fraudTest[\"gender\"].value_counts())\n"
   ]
  },
  {
   "cell_type": "code",
   "execution_count": null,
   "id": "020535b5-3cf5-4c53-ba12-869366ee5a92",
   "metadata": {},
   "outputs": [],
   "source": []
  }
 ],
 "metadata": {
  "kernelspec": {
   "display_name": "Python 3 (ipykernel)",
   "language": "python",
   "name": "python3"
  },
  "language_info": {
   "codemirror_mode": {
    "name": "ipython",
    "version": 3
   },
   "file_extension": ".py",
   "mimetype": "text/x-python",
   "name": "python",
   "nbconvert_exporter": "python",
   "pygments_lexer": "ipython3",
   "version": "3.12.7"
  }
 },
 "nbformat": 4,
 "nbformat_minor": 5
}
